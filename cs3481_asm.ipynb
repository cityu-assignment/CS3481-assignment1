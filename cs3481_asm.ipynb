{
  "nbformat": 4,
  "nbformat_minor": 0,
  "metadata": {
    "colab": {
      "provenance": [],
      "authorship_tag": "ABX9TyMPIDvtOq2llOkg3mwpAw9T",
      "include_colab_link": true
    },
    "kernelspec": {
      "name": "python3",
      "display_name": "Python 3"
    },
    "language_info": {
      "name": "python"
    }
  },
  "cells": [
    {
      "cell_type": "markdown",
      "metadata": {
        "id": "view-in-github",
        "colab_type": "text"
      },
      "source": [
        "<a href=\"https://colab.research.google.com/github/cityu-assignment/CS3481-assignment1/blob/main/cs3481_asm.ipynb\" target=\"_parent\"><img src=\"https://colab.research.google.com/assets/colab-badge.svg\" alt=\"Open In Colab\"/></a>"
      ]
    },
    {
      "cell_type": "code",
      "execution_count": 2,
      "metadata": {
        "id": "qMVn7Wwk-y9k"
      },
      "outputs": [],
      "source": [
        "from scipy.io import arff\n",
        "import numpy as np \n",
        "import pandas as pd\n",
        "from sklearn.tree import DecisionTreeClassifier\n",
        "import sklearn.tree as tree\n",
        "import graphviz "
      ]
    },
    {
      "cell_type": "code",
      "source": [
        "data = arff.loadarff(\"/content/column_3C_weka.arff\")\n",
        "df = pd.DataFrame(data[0])\n",
        "df"
      ],
      "metadata": {
        "colab": {
          "base_uri": "https://localhost:8080/",
          "height": 488
        },
        "id": "pRdQUBs-AZA4",
        "outputId": "3d8fa7a5-3291-48af-a54a-d7cf806799f3"
      },
      "execution_count": 33,
      "outputs": [
        {
          "output_type": "execute_result",
          "data": {
            "text/plain": [
              "     pelvic_incidence  pelvic_tilt  lumbar_lordosis_angle  sacral_slope  \\\n",
              "0           63.027817    22.552586              39.609117     40.475232   \n",
              "1           39.056951    10.060991              25.015378     28.995960   \n",
              "2           68.832021    22.218482              50.092194     46.613539   \n",
              "3           69.297008    24.652878              44.311238     44.644130   \n",
              "4           49.712859     9.652075              28.317406     40.060784   \n",
              "..                ...          ...                    ...           ...   \n",
              "305         47.903565    13.616688              36.000000     34.286877   \n",
              "306         53.936748    20.721496              29.220534     33.215251   \n",
              "307         61.446597    22.694968              46.170347     38.751628   \n",
              "308         45.252792     8.693157              41.583126     36.559635   \n",
              "309         33.841641     5.073991              36.641233     28.767649   \n",
              "\n",
              "     pelvic_radius  degree_spondylolisthesis      class  \n",
              "0        98.672917                 -0.254400  b'Hernia'  \n",
              "1       114.405425                  4.564259  b'Hernia'  \n",
              "2       105.985135                 -3.530317  b'Hernia'  \n",
              "3       101.868495                 11.211523  b'Hernia'  \n",
              "4       108.168725                  7.918501  b'Hernia'  \n",
              "..             ...                       ...        ...  \n",
              "305     117.449062                 -4.245395  b'Normal'  \n",
              "306     114.365845                 -0.421010  b'Normal'  \n",
              "307     125.670725                 -2.707880  b'Normal'  \n",
              "308     118.545842                  0.214750  b'Normal'  \n",
              "309     123.945244                 -0.199249  b'Normal'  \n",
              "\n",
              "[310 rows x 7 columns]"
            ],
            "text/html": [
              "\n",
              "  <div id=\"df-3caf2978-985e-4732-ba17-e977e132309d\">\n",
              "    <div class=\"colab-df-container\">\n",
              "      <div>\n",
              "<style scoped>\n",
              "    .dataframe tbody tr th:only-of-type {\n",
              "        vertical-align: middle;\n",
              "    }\n",
              "\n",
              "    .dataframe tbody tr th {\n",
              "        vertical-align: top;\n",
              "    }\n",
              "\n",
              "    .dataframe thead th {\n",
              "        text-align: right;\n",
              "    }\n",
              "</style>\n",
              "<table border=\"1\" class=\"dataframe\">\n",
              "  <thead>\n",
              "    <tr style=\"text-align: right;\">\n",
              "      <th></th>\n",
              "      <th>pelvic_incidence</th>\n",
              "      <th>pelvic_tilt</th>\n",
              "      <th>lumbar_lordosis_angle</th>\n",
              "      <th>sacral_slope</th>\n",
              "      <th>pelvic_radius</th>\n",
              "      <th>degree_spondylolisthesis</th>\n",
              "      <th>class</th>\n",
              "    </tr>\n",
              "  </thead>\n",
              "  <tbody>\n",
              "    <tr>\n",
              "      <th>0</th>\n",
              "      <td>63.027817</td>\n",
              "      <td>22.552586</td>\n",
              "      <td>39.609117</td>\n",
              "      <td>40.475232</td>\n",
              "      <td>98.672917</td>\n",
              "      <td>-0.254400</td>\n",
              "      <td>b'Hernia'</td>\n",
              "    </tr>\n",
              "    <tr>\n",
              "      <th>1</th>\n",
              "      <td>39.056951</td>\n",
              "      <td>10.060991</td>\n",
              "      <td>25.015378</td>\n",
              "      <td>28.995960</td>\n",
              "      <td>114.405425</td>\n",
              "      <td>4.564259</td>\n",
              "      <td>b'Hernia'</td>\n",
              "    </tr>\n",
              "    <tr>\n",
              "      <th>2</th>\n",
              "      <td>68.832021</td>\n",
              "      <td>22.218482</td>\n",
              "      <td>50.092194</td>\n",
              "      <td>46.613539</td>\n",
              "      <td>105.985135</td>\n",
              "      <td>-3.530317</td>\n",
              "      <td>b'Hernia'</td>\n",
              "    </tr>\n",
              "    <tr>\n",
              "      <th>3</th>\n",
              "      <td>69.297008</td>\n",
              "      <td>24.652878</td>\n",
              "      <td>44.311238</td>\n",
              "      <td>44.644130</td>\n",
              "      <td>101.868495</td>\n",
              "      <td>11.211523</td>\n",
              "      <td>b'Hernia'</td>\n",
              "    </tr>\n",
              "    <tr>\n",
              "      <th>4</th>\n",
              "      <td>49.712859</td>\n",
              "      <td>9.652075</td>\n",
              "      <td>28.317406</td>\n",
              "      <td>40.060784</td>\n",
              "      <td>108.168725</td>\n",
              "      <td>7.918501</td>\n",
              "      <td>b'Hernia'</td>\n",
              "    </tr>\n",
              "    <tr>\n",
              "      <th>...</th>\n",
              "      <td>...</td>\n",
              "      <td>...</td>\n",
              "      <td>...</td>\n",
              "      <td>...</td>\n",
              "      <td>...</td>\n",
              "      <td>...</td>\n",
              "      <td>...</td>\n",
              "    </tr>\n",
              "    <tr>\n",
              "      <th>305</th>\n",
              "      <td>47.903565</td>\n",
              "      <td>13.616688</td>\n",
              "      <td>36.000000</td>\n",
              "      <td>34.286877</td>\n",
              "      <td>117.449062</td>\n",
              "      <td>-4.245395</td>\n",
              "      <td>b'Normal'</td>\n",
              "    </tr>\n",
              "    <tr>\n",
              "      <th>306</th>\n",
              "      <td>53.936748</td>\n",
              "      <td>20.721496</td>\n",
              "      <td>29.220534</td>\n",
              "      <td>33.215251</td>\n",
              "      <td>114.365845</td>\n",
              "      <td>-0.421010</td>\n",
              "      <td>b'Normal'</td>\n",
              "    </tr>\n",
              "    <tr>\n",
              "      <th>307</th>\n",
              "      <td>61.446597</td>\n",
              "      <td>22.694968</td>\n",
              "      <td>46.170347</td>\n",
              "      <td>38.751628</td>\n",
              "      <td>125.670725</td>\n",
              "      <td>-2.707880</td>\n",
              "      <td>b'Normal'</td>\n",
              "    </tr>\n",
              "    <tr>\n",
              "      <th>308</th>\n",
              "      <td>45.252792</td>\n",
              "      <td>8.693157</td>\n",
              "      <td>41.583126</td>\n",
              "      <td>36.559635</td>\n",
              "      <td>118.545842</td>\n",
              "      <td>0.214750</td>\n",
              "      <td>b'Normal'</td>\n",
              "    </tr>\n",
              "    <tr>\n",
              "      <th>309</th>\n",
              "      <td>33.841641</td>\n",
              "      <td>5.073991</td>\n",
              "      <td>36.641233</td>\n",
              "      <td>28.767649</td>\n",
              "      <td>123.945244</td>\n",
              "      <td>-0.199249</td>\n",
              "      <td>b'Normal'</td>\n",
              "    </tr>\n",
              "  </tbody>\n",
              "</table>\n",
              "<p>310 rows × 7 columns</p>\n",
              "</div>\n",
              "      <button class=\"colab-df-convert\" onclick=\"convertToInteractive('df-3caf2978-985e-4732-ba17-e977e132309d')\"\n",
              "              title=\"Convert this dataframe to an interactive table.\"\n",
              "              style=\"display:none;\">\n",
              "        \n",
              "  <svg xmlns=\"http://www.w3.org/2000/svg\" height=\"24px\"viewBox=\"0 0 24 24\"\n",
              "       width=\"24px\">\n",
              "    <path d=\"M0 0h24v24H0V0z\" fill=\"none\"/>\n",
              "    <path d=\"M18.56 5.44l.94 2.06.94-2.06 2.06-.94-2.06-.94-.94-2.06-.94 2.06-2.06.94zm-11 1L8.5 8.5l.94-2.06 2.06-.94-2.06-.94L8.5 2.5l-.94 2.06-2.06.94zm10 10l.94 2.06.94-2.06 2.06-.94-2.06-.94-.94-2.06-.94 2.06-2.06.94z\"/><path d=\"M17.41 7.96l-1.37-1.37c-.4-.4-.92-.59-1.43-.59-.52 0-1.04.2-1.43.59L10.3 9.45l-7.72 7.72c-.78.78-.78 2.05 0 2.83L4 21.41c.39.39.9.59 1.41.59.51 0 1.02-.2 1.41-.59l7.78-7.78 2.81-2.81c.8-.78.8-2.07 0-2.86zM5.41 20L4 18.59l7.72-7.72 1.47 1.35L5.41 20z\"/>\n",
              "  </svg>\n",
              "      </button>\n",
              "      \n",
              "  <style>\n",
              "    .colab-df-container {\n",
              "      display:flex;\n",
              "      flex-wrap:wrap;\n",
              "      gap: 12px;\n",
              "    }\n",
              "\n",
              "    .colab-df-convert {\n",
              "      background-color: #E8F0FE;\n",
              "      border: none;\n",
              "      border-radius: 50%;\n",
              "      cursor: pointer;\n",
              "      display: none;\n",
              "      fill: #1967D2;\n",
              "      height: 32px;\n",
              "      padding: 0 0 0 0;\n",
              "      width: 32px;\n",
              "    }\n",
              "\n",
              "    .colab-df-convert:hover {\n",
              "      background-color: #E2EBFA;\n",
              "      box-shadow: 0px 1px 2px rgba(60, 64, 67, 0.3), 0px 1px 3px 1px rgba(60, 64, 67, 0.15);\n",
              "      fill: #174EA6;\n",
              "    }\n",
              "\n",
              "    [theme=dark] .colab-df-convert {\n",
              "      background-color: #3B4455;\n",
              "      fill: #D2E3FC;\n",
              "    }\n",
              "\n",
              "    [theme=dark] .colab-df-convert:hover {\n",
              "      background-color: #434B5C;\n",
              "      box-shadow: 0px 1px 3px 1px rgba(0, 0, 0, 0.15);\n",
              "      filter: drop-shadow(0px 1px 2px rgba(0, 0, 0, 0.3));\n",
              "      fill: #FFFFFF;\n",
              "    }\n",
              "  </style>\n",
              "\n",
              "      <script>\n",
              "        const buttonEl =\n",
              "          document.querySelector('#df-3caf2978-985e-4732-ba17-e977e132309d button.colab-df-convert');\n",
              "        buttonEl.style.display =\n",
              "          google.colab.kernel.accessAllowed ? 'block' : 'none';\n",
              "\n",
              "        async function convertToInteractive(key) {\n",
              "          const element = document.querySelector('#df-3caf2978-985e-4732-ba17-e977e132309d');\n",
              "          const dataTable =\n",
              "            await google.colab.kernel.invokeFunction('convertToInteractive',\n",
              "                                                     [key], {});\n",
              "          if (!dataTable) return;\n",
              "\n",
              "          const docLinkHtml = 'Like what you see? Visit the ' +\n",
              "            '<a target=\"_blank\" href=https://colab.research.google.com/notebooks/data_table.ipynb>data table notebook</a>'\n",
              "            + ' to learn more about interactive tables.';\n",
              "          element.innerHTML = '';\n",
              "          dataTable['output_type'] = 'display_data';\n",
              "          await google.colab.output.renderOutput(dataTable, element);\n",
              "          const docLink = document.createElement('div');\n",
              "          docLink.innerHTML = docLinkHtml;\n",
              "          element.appendChild(docLink);\n",
              "        }\n",
              "      </script>\n",
              "    </div>\n",
              "  </div>\n",
              "  "
            ]
          },
          "metadata": {},
          "execution_count": 33
        }
      ]
    },
    {
      "cell_type": "code",
      "source": [
        "X = df[['pelvic_incidence', 'pelvic_tilt', 'lumbar_lordosis_angle', 'sacral_slope', 'pelvic_radius', 'degree_spondylolisthesis']].values\n",
        "X[0:5]"
      ],
      "metadata": {
        "colab": {
          "base_uri": "https://localhost:8080/"
        },
        "id": "A46F5wB2UGX1",
        "outputId": "94ba48a7-559f-4d54-9b1b-fa24bc79a27e"
      },
      "execution_count": 34,
      "outputs": [
        {
          "output_type": "execute_result",
          "data": {
            "text/plain": [
              "array([[ 63.0278175 ,  22.55258597,  39.60911701,  40.47523153,\n",
              "         98.67291675,  -0.25439999],\n",
              "       [ 39.05695098,  10.06099147,  25.01537822,  28.99595951,\n",
              "        114.4054254 ,   4.56425864],\n",
              "       [ 68.83202098,  22.21848205,  50.09219357,  46.61353893,\n",
              "        105.9851355 ,  -3.53031731],\n",
              "       [ 69.29700807,  24.65287791,  44.31123813,  44.64413017,\n",
              "        101.8684951 ,  11.21152344],\n",
              "       [ 49.71285934,   9.65207488,  28.317406  ,  40.06078446,\n",
              "        108.1687249 ,   7.91850062]])"
            ]
          },
          "metadata": {},
          "execution_count": 34
        }
      ]
    },
    {
      "cell_type": "code",
      "source": [
        "y = df['class']\n",
        "y = y.astype('string')\n",
        "y"
      ],
      "metadata": {
        "colab": {
          "base_uri": "https://localhost:8080/"
        },
        "id": "7ogJfO-UU2Mu",
        "outputId": "fcf2cca9-732d-4971-e15b-e37557d952ec"
      },
      "execution_count": 49,
      "outputs": [
        {
          "output_type": "execute_result",
          "data": {
            "text/plain": [
              "0      b'Hernia'\n",
              "1      b'Hernia'\n",
              "2      b'Hernia'\n",
              "3      b'Hernia'\n",
              "4      b'Hernia'\n",
              "         ...    \n",
              "305    b'Normal'\n",
              "306    b'Normal'\n",
              "307    b'Normal'\n",
              "308    b'Normal'\n",
              "309    b'Normal'\n",
              "Name: class, Length: 310, dtype: string"
            ]
          },
          "metadata": {},
          "execution_count": 49
        }
      ]
    },
    {
      "cell_type": "code",
      "source": [
        "from sklearn.model_selection import train_test_split\n",
        "\n",
        "X_trainset, X_testset, y_trainset, y_testset = train_test_split(X, y, test_size=0.3, random_state=3)"
      ],
      "metadata": {
        "id": "0VkB-5w9Taqa"
      },
      "execution_count": 48,
      "outputs": []
    },
    {
      "cell_type": "code",
      "source": [
        "clf = DecisionTreeClassifier(max_depth=3) \n",
        "clf.fit(X_trainset, y_trainset)"
      ],
      "metadata": {
        "colab": {
          "base_uri": "https://localhost:8080/"
        },
        "id": "bA6r5fPjRvyh",
        "outputId": "a352d62d-78bc-4bd8-ef3b-ad4653ab2ad1"
      },
      "execution_count": 102,
      "outputs": [
        {
          "output_type": "execute_result",
          "data": {
            "text/plain": [
              "DecisionTreeClassifier(max_depth=3)"
            ]
          },
          "metadata": {},
          "execution_count": 102
        }
      ]
    },
    {
      "cell_type": "code",
      "source": [
        "from sklearn import metrics\n",
        "\n",
        "predTree = clf.predict(X_testset)\n",
        "\n",
        "print(\"DecisionTrees's Accuracy: \", metrics.accuracy_score(y_testset, predTree))"
      ],
      "metadata": {
        "id": "aeoSashCVyks",
        "colab": {
          "base_uri": "https://localhost:8080/"
        },
        "outputId": "c6b6760e-9d1f-4159-bdf3-b4e705ba8380"
      },
      "execution_count": 104,
      "outputs": [
        {
          "output_type": "stream",
          "name": "stdout",
          "text": [
            "DecisionTrees's Accuracy:  0.8494623655913979\n"
          ]
        }
      ]
    },
    {
      "cell_type": "code",
      "source": [
        "print(predTree[0:5])\n",
        "print(y_testset[0:5])"
      ],
      "metadata": {
        "colab": {
          "base_uri": "https://localhost:8080/"
        },
        "id": "NfmnGGKqlFKk",
        "outputId": "614fd94d-5816-45d6-bdd7-8c4022425aab"
      },
      "execution_count": 105,
      "outputs": [
        {
          "output_type": "stream",
          "name": "stdout",
          "text": [
            "[\"b'Spondylolisthesis'\" \"b'Normal'\" \"b'Normal'\" \"b'Hernia'\"\n",
            " \"b'Spondylolisthesis'\"]\n",
            "159    b'Spondylolisthesis'\n",
            "298               b'Normal'\n",
            "265               b'Normal'\n",
            "243               b'Normal'\n",
            "194    b'Spondylolisthesis'\n",
            "Name: class, dtype: string\n"
          ]
        }
      ]
    },
    {
      "cell_type": "code",
      "source": [
        "# confusion_matrix \n",
        "\n",
        "from sklearn.metrics import confusion_matrix \n",
        "\n",
        "metrics.plot_confusion_matrix(clf, X_testset, y_testset)\n",
        "\n",
        "confmat = confusion_matrix(y_testset, predTree)\n",
        "print(confmat)"
      ],
      "metadata": {
        "colab": {
          "base_uri": "https://localhost:8080/",
          "height": 335
        },
        "id": "JtTBRDAmdQRZ",
        "outputId": "1f287822-ada4-47d9-b895-08abe882d31a"
      },
      "execution_count": 114,
      "outputs": [
        {
          "output_type": "stream",
          "name": "stdout",
          "text": [
            "[[15  3  0]\n",
            " [ 8 19  0]\n",
            " [ 1  2 45]]\n"
          ]
        },
        {
          "output_type": "display_data",
          "data": {
            "text/plain": [
              "<Figure size 432x288 with 2 Axes>"
            ],
            "image/png": "[encoded data removed]"
          },
          "metadata": {
            "needs_background": "light"
          }
        }
      ]
    },
    {
      "cell_type": "code",
      "source": [
        "dot_data = tree.export_graphviz(clf, out_file=None,  \n",
        "                         feature_names=list(df.columns)[:6],   \n",
        "                         class_names=clf.classes_,   \n",
        "                         filled=True, rounded=True,   \n",
        "                         special_characters=True)   \n",
        " \n",
        "graph = graphviz.Source(dot_data)   \n",
        "graph"
      ],
      "metadata": {
        "colab": {
          "base_uri": "https://localhost:8080/",
          "height": 619
        },
        "id": "iMDaXQm8YHto",
        "outputId": "c6ab67b4-b572-4a93-fd70-817d51b9aa75"
      },
      "execution_count": 109,
      "outputs": [
        {
          "output_type": "execute_result",
          "data": {
            "text/plain": [
              "<graphviz.files.Source at 0x7f5f18580f40>"
            ],
            "image/svg+xml": "<?xml version=\"1.0\" encoding=\"UTF-8\" standalone=\"no\"?>\n<!DOCTYPE svg PUBLIC \"-//W3C//DTD SVG 1.1//EN\"\n \"http://www.w3.org/Graphics/SVG/1.1/DTD/svg11.dtd\">\n<!-- Generated by graphviz version 2.43.0 (0)\n -->\n<!-- Title: Tree Pages: 1 -->\n<svg width=\"962pt\" height=\"433pt\"\n viewBox=\"0.00 0.00 961.50 433.00\" xmlns=\"http://www.w3.org/2000/svg\" xmlns:xlink=\"http://www.w3.org/1999/xlink\">\n<g id=\"graph0\" class=\"graph\" transform=\"scale(1 1) rotate(0) translate(4 429)\">\n<title>Tree</title>\n<polygon fill=\"white\" stroke=\"transparent\" points=\"-4,4 -4,-429 957.5,-429 957.5,4 -4,4\"/>\n<!-- 0 -->\n<g id=\"node1\" class=\"node\">\n<title>0</title>\n<path fill=\"#e6d7fa\" stroke=\"black\" d=\"M597,-425C597,-425 397,-425 397,-425 391,-425 385,-419 385,-413 385,-413 385,-354 385,-354 385,-348 391,-342 397,-342 397,-342 597,-342 597,-342 603,-342 609,-348 609,-354 609,-354 609,-413 609,-413 609,-419 603,-425 597,-425\"/>\n<text text-anchor=\"start\" x=\"393\" y=\"-409.8\" font-family=\"Helvetica,sans-Serif\" font-size=\"14.00\">degree_spondylolisthesis ≤ 20.085</text>\n<text text-anchor=\"start\" x=\"461.5\" y=\"-394.8\" font-family=\"Helvetica,sans-Serif\" font-size=\"14.00\">gini = 0.628</text>\n<text text-anchor=\"start\" x=\"452\" y=\"-379.8\" font-family=\"Helvetica,sans-Serif\" font-size=\"14.00\">samples = 217</text>\n<text text-anchor=\"start\" x=\"435\" y=\"-364.8\" font-family=\"Helvetica,sans-Serif\" font-size=\"14.00\">value = [42, 73, 102]</text>\n<text text-anchor=\"start\" x=\"414.5\" y=\"-349.8\" font-family=\"Helvetica,sans-Serif\" font-size=\"14.00\">class = b&#39;Spondylolisthesis&#39;</text>\n</g>\n<!-- 1 -->\n<g id=\"node2\" class=\"node\">\n<title>1</title>\n<path fill=\"#b2f5ce\" stroke=\"black\" d=\"M456.5,-306C456.5,-306 331.5,-306 331.5,-306 325.5,-306 319.5,-300 319.5,-294 319.5,-294 319.5,-235 319.5,-235 319.5,-229 325.5,-223 331.5,-223 331.5,-223 456.5,-223 456.5,-223 462.5,-223 468.5,-229 468.5,-235 468.5,-235 468.5,-294 468.5,-294 468.5,-300 462.5,-306 456.5,-306\"/>\n<text text-anchor=\"start\" x=\"327.5\" y=\"-290.8\" font-family=\"Helvetica,sans-Serif\" font-size=\"14.00\">sacral_slope ≤ 28.136</text>\n<text text-anchor=\"start\" x=\"358.5\" y=\"-275.8\" font-family=\"Helvetica,sans-Serif\" font-size=\"14.00\">gini = 0.502</text>\n<text text-anchor=\"start\" x=\"349\" y=\"-260.8\" font-family=\"Helvetica,sans-Serif\" font-size=\"14.00\">samples = 117</text>\n<text text-anchor=\"start\" x=\"339.5\" y=\"-245.8\" font-family=\"Helvetica,sans-Serif\" font-size=\"14.00\">value = [42, 71, 4]</text>\n<text text-anchor=\"start\" x=\"341.5\" y=\"-230.8\" font-family=\"Helvetica,sans-Serif\" font-size=\"14.00\">class = b&#39;Normal&#39;</text>\n</g>\n<!-- 0&#45;&gt;1 -->\n<g id=\"edge1\" class=\"edge\">\n<title>0&#45;&gt;1</title>\n<path fill=\"none\" stroke=\"black\" d=\"M461.26,-341.91C453.28,-332.83 444.73,-323.12 436.49,-313.77\"/>\n<polygon fill=\"black\" stroke=\"black\" points=\"438.91,-311.21 429.67,-306.02 433.65,-315.84 438.91,-311.21\"/>\n<text text-anchor=\"middle\" x=\"428.08\" y=\"-327.27\" font-family=\"Helvetica,sans-Serif\" font-size=\"14.00\">True</text>\n</g>\n<!-- 8 -->\n<g id=\"node9\" class=\"node\">\n<title>8</title>\n<path fill=\"#843de6\" stroke=\"black\" d=\"M738.5,-306C738.5,-306 545.5,-306 545.5,-306 539.5,-306 533.5,-300 533.5,-294 533.5,-294 533.5,-235 533.5,-235 533.5,-229 539.5,-223 545.5,-223 545.5,-223 738.5,-223 738.5,-223 744.5,-223 750.5,-229 750.5,-235 750.5,-235 750.5,-294 750.5,-294 750.5,-300 744.5,-306 738.5,-306\"/>\n<text text-anchor=\"start\" x=\"541.5\" y=\"-290.8\" font-family=\"Helvetica,sans-Serif\" font-size=\"14.00\">degree_spondylolisthesis ≤ 31.25</text>\n<text text-anchor=\"start\" x=\"606.5\" y=\"-275.8\" font-family=\"Helvetica,sans-Serif\" font-size=\"14.00\">gini = 0.039</text>\n<text text-anchor=\"start\" x=\"597\" y=\"-260.8\" font-family=\"Helvetica,sans-Serif\" font-size=\"14.00\">samples = 100</text>\n<text text-anchor=\"start\" x=\"591.5\" y=\"-245.8\" font-family=\"Helvetica,sans-Serif\" font-size=\"14.00\">value = [0, 2, 98]</text>\n<text text-anchor=\"start\" x=\"559.5\" y=\"-230.8\" font-family=\"Helvetica,sans-Serif\" font-size=\"14.00\">class = b&#39;Spondylolisthesis&#39;</text>\n</g>\n<!-- 0&#45;&gt;8 -->\n<g id=\"edge8\" class=\"edge\">\n<title>0&#45;&gt;8</title>\n<path fill=\"none\" stroke=\"black\" d=\"M547.31,-341.91C559.12,-332.38 571.79,-322.15 583.91,-312.37\"/>\n<polygon fill=\"black\" stroke=\"black\" points=\"586.2,-315.02 591.78,-306.02 581.8,-309.58 586.2,-315.02\"/>\n<text text-anchor=\"middle\" x=\"589.13\" y=\"-327.18\" font-family=\"Helvetica,sans-Serif\" font-size=\"14.00\">False</text>\n</g>\n<!-- 2 -->\n<g id=\"node3\" class=\"node\">\n<title>2</title>\n<path fill=\"#eca470\" stroke=\"black\" d=\"M245,-187C245,-187 141,-187 141,-187 135,-187 129,-181 129,-175 129,-175 129,-116 129,-116 129,-110 135,-104 141,-104 141,-104 245,-104 245,-104 251,-104 257,-110 257,-116 257,-116 257,-175 257,-175 257,-181 251,-187 245,-187\"/>\n<text text-anchor=\"start\" x=\"137\" y=\"-171.8\" font-family=\"Helvetica,sans-Serif\" font-size=\"14.00\">pelvic_tilt ≤ 13.662</text>\n<text text-anchor=\"start\" x=\"161\" y=\"-156.8\" font-family=\"Helvetica,sans-Serif\" font-size=\"14.00\">gini = 0.34</text>\n<text text-anchor=\"start\" x=\"152\" y=\"-141.8\" font-family=\"Helvetica,sans-Serif\" font-size=\"14.00\">samples = 23</text>\n<text text-anchor=\"start\" x=\"142.5\" y=\"-126.8\" font-family=\"Helvetica,sans-Serif\" font-size=\"14.00\">value = [18, 5, 0]</text>\n<text text-anchor=\"start\" x=\"143\" y=\"-111.8\" font-family=\"Helvetica,sans-Serif\" font-size=\"14.00\">class = b&#39;Hernia&#39;</text>\n</g>\n<!-- 1&#45;&gt;2 -->\n<g id=\"edge2\" class=\"edge\">\n<title>1&#45;&gt;2</title>\n<path fill=\"none\" stroke=\"black\" d=\"M324.26,-222.91C305.47,-211.97 285.09,-200.1 266.12,-189.06\"/>\n<polygon fill=\"black\" stroke=\"black\" points=\"267.62,-185.89 257.22,-183.88 264.1,-191.94 267.62,-185.89\"/>\n</g>\n<!-- 5 -->\n<g id=\"node6\" class=\"node\">\n<title>5</title>\n<path fill=\"#88efb3\" stroke=\"black\" d=\"M458,-187C458,-187 330,-187 330,-187 324,-187 318,-181 318,-175 318,-175 318,-116 318,-116 318,-110 324,-104 330,-104 330,-104 458,-104 458,-104 464,-104 470,-110 470,-116 470,-116 470,-175 470,-175 470,-181 464,-187 458,-187\"/>\n<text text-anchor=\"start\" x=\"326\" y=\"-171.8\" font-family=\"Helvetica,sans-Serif\" font-size=\"14.00\">pelvic_radius ≤ 117.36</text>\n<text text-anchor=\"start\" x=\"362\" y=\"-156.8\" font-family=\"Helvetica,sans-Serif\" font-size=\"14.00\">gini = 0.44</text>\n<text text-anchor=\"start\" x=\"353\" y=\"-141.8\" font-family=\"Helvetica,sans-Serif\" font-size=\"14.00\">samples = 94</text>\n<text text-anchor=\"start\" x=\"339.5\" y=\"-126.8\" font-family=\"Helvetica,sans-Serif\" font-size=\"14.00\">value = [24, 66, 4]</text>\n<text text-anchor=\"start\" x=\"341.5\" y=\"-111.8\" font-family=\"Helvetica,sans-Serif\" font-size=\"14.00\">class = b&#39;Normal&#39;</text>\n</g>\n<!-- 1&#45;&gt;5 -->\n<g id=\"edge5\" class=\"edge\">\n<title>1&#45;&gt;5</title>\n<path fill=\"none\" stroke=\"black\" d=\"M394,-222.91C394,-214.65 394,-205.86 394,-197.3\"/>\n<polygon fill=\"black\" stroke=\"black\" points=\"397.5,-197.02 394,-187.02 390.5,-197.02 397.5,-197.02\"/>\n</g>\n<!-- 3 -->\n<g id=\"node4\" class=\"node\">\n<title>3</title>\n<path fill=\"#e58139\" stroke=\"black\" d=\"M104,-68C104,-68 12,-68 12,-68 6,-68 0,-62 0,-56 0,-56 0,-12 0,-12 0,-6 6,0 12,0 12,0 104,0 104,0 110,0 116,-6 116,-12 116,-12 116,-56 116,-56 116,-62 110,-68 104,-68\"/>\n<text text-anchor=\"start\" x=\"30\" y=\"-52.8\" font-family=\"Helvetica,sans-Serif\" font-size=\"14.00\">gini = 0.0</text>\n<text text-anchor=\"start\" x=\"20.5\" y=\"-37.8\" font-family=\"Helvetica,sans-Serif\" font-size=\"14.00\">samples = 8</text>\n<text text-anchor=\"start\" x=\"11\" y=\"-22.8\" font-family=\"Helvetica,sans-Serif\" font-size=\"14.00\">value = [8, 0, 0]</text>\n<text text-anchor=\"start\" x=\"8\" y=\"-7.8\" font-family=\"Helvetica,sans-Serif\" font-size=\"14.00\">class = b&#39;Hernia&#39;</text>\n</g>\n<!-- 2&#45;&gt;3 -->\n<g id=\"edge3\" class=\"edge\">\n<title>2&#45;&gt;3</title>\n<path fill=\"none\" stroke=\"black\" d=\"M142.73,-103.73C131.04,-94.24 118.6,-84.16 106.96,-74.72\"/>\n<polygon fill=\"black\" stroke=\"black\" points=\"109.03,-71.88 99.05,-68.3 104.62,-77.32 109.03,-71.88\"/>\n</g>\n<!-- 4 -->\n<g id=\"node5\" class=\"node\">\n<title>4</title>\n<path fill=\"#f2c09c\" stroke=\"black\" d=\"M239.5,-68C239.5,-68 146.5,-68 146.5,-68 140.5,-68 134.5,-62 134.5,-56 134.5,-56 134.5,-12 134.5,-12 134.5,-6 140.5,0 146.5,0 146.5,0 239.5,0 239.5,0 245.5,0 251.5,-6 251.5,-12 251.5,-12 251.5,-56 251.5,-56 251.5,-62 245.5,-68 239.5,-68\"/>\n<text text-anchor=\"start\" x=\"157.5\" y=\"-52.8\" font-family=\"Helvetica,sans-Serif\" font-size=\"14.00\">gini = 0.444</text>\n<text text-anchor=\"start\" x=\"152\" y=\"-37.8\" font-family=\"Helvetica,sans-Serif\" font-size=\"14.00\">samples = 15</text>\n<text text-anchor=\"start\" x=\"142.5\" y=\"-22.8\" font-family=\"Helvetica,sans-Serif\" font-size=\"14.00\">value = [10, 5, 0]</text>\n<text text-anchor=\"start\" x=\"143\" y=\"-7.8\" font-family=\"Helvetica,sans-Serif\" font-size=\"14.00\">class = b&#39;Hernia&#39;</text>\n</g>\n<!-- 2&#45;&gt;4 -->\n<g id=\"edge4\" class=\"edge\">\n<title>2&#45;&gt;4</title>\n<path fill=\"none\" stroke=\"black\" d=\"M193,-103.73C193,-95.52 193,-86.86 193,-78.56\"/>\n<polygon fill=\"black\" stroke=\"black\" points=\"196.5,-78.3 193,-68.3 189.5,-78.3 196.5,-78.3\"/>\n</g>\n<!-- 6 -->\n<g id=\"node7\" class=\"node\">\n<title>6</title>\n<path fill=\"#fcf2eb\" stroke=\"black\" d=\"M382.5,-68C382.5,-68 281.5,-68 281.5,-68 275.5,-68 269.5,-62 269.5,-56 269.5,-56 269.5,-12 269.5,-12 269.5,-6 275.5,0 281.5,0 281.5,0 382.5,0 382.5,0 388.5,0 394.5,-6 394.5,-12 394.5,-12 394.5,-56 394.5,-56 394.5,-62 388.5,-68 382.5,-68\"/>\n<text text-anchor=\"start\" x=\"296.5\" y=\"-52.8\" font-family=\"Helvetica,sans-Serif\" font-size=\"14.00\">gini = 0.573</text>\n<text text-anchor=\"start\" x=\"291\" y=\"-37.8\" font-family=\"Helvetica,sans-Serif\" font-size=\"14.00\">samples = 35</text>\n<text text-anchor=\"start\" x=\"277.5\" y=\"-22.8\" font-family=\"Helvetica,sans-Serif\" font-size=\"14.00\">value = [17, 15, 3]</text>\n<text text-anchor=\"start\" x=\"282\" y=\"-7.8\" font-family=\"Helvetica,sans-Serif\" font-size=\"14.00\">class = b&#39;Hernia&#39;</text>\n</g>\n<!-- 5&#45;&gt;6 -->\n<g id=\"edge6\" class=\"edge\">\n<title>5&#45;&gt;6</title>\n<path fill=\"none\" stroke=\"black\" d=\"M370.91,-103.73C366.01,-95.06 360.82,-85.9 355.88,-77.18\"/>\n<polygon fill=\"black\" stroke=\"black\" points=\"358.83,-75.28 350.85,-68.3 352.74,-78.73 358.83,-75.28\"/>\n</g>\n<!-- 7 -->\n<g id=\"node8\" class=\"node\">\n<title>7</title>\n<path fill=\"#57e994\" stroke=\"black\" d=\"M521.5,-68C521.5,-68 424.5,-68 424.5,-68 418.5,-68 412.5,-62 412.5,-56 412.5,-56 412.5,-12 412.5,-12 412.5,-6 418.5,0 424.5,0 424.5,0 521.5,0 521.5,0 527.5,0 533.5,-6 533.5,-12 533.5,-12 533.5,-56 533.5,-56 533.5,-62 527.5,-68 521.5,-68\"/>\n<text text-anchor=\"start\" x=\"437.5\" y=\"-52.8\" font-family=\"Helvetica,sans-Serif\" font-size=\"14.00\">gini = 0.238</text>\n<text text-anchor=\"start\" x=\"432\" y=\"-37.8\" font-family=\"Helvetica,sans-Serif\" font-size=\"14.00\">samples = 59</text>\n<text text-anchor=\"start\" x=\"422.5\" y=\"-22.8\" font-family=\"Helvetica,sans-Serif\" font-size=\"14.00\">value = [7, 51, 1]</text>\n<text text-anchor=\"start\" x=\"420.5\" y=\"-7.8\" font-family=\"Helvetica,sans-Serif\" font-size=\"14.00\">class = b&#39;Normal&#39;</text>\n</g>\n<!-- 5&#45;&gt;7 -->\n<g id=\"edge7\" class=\"edge\">\n<title>5&#45;&gt;7</title>\n<path fill=\"none\" stroke=\"black\" d=\"M423.42,-103.73C429.8,-94.88 436.56,-85.51 442.97,-76.63\"/>\n<polygon fill=\"black\" stroke=\"black\" points=\"445.96,-78.46 448.98,-68.3 440.29,-74.36 445.96,-78.46\"/>\n</g>\n<!-- 9 -->\n<g id=\"node10\" class=\"node\">\n<title>9</title>\n<path fill=\"#8b49e7\" stroke=\"black\" d=\"M742,-187C742,-187 542,-187 542,-187 536,-187 530,-181 530,-175 530,-175 530,-116 530,-116 530,-110 536,-104 542,-104 542,-104 742,-104 742,-104 748,-104 754,-110 754,-116 754,-116 754,-175 754,-175 754,-181 748,-187 742,-187\"/>\n<text text-anchor=\"start\" x=\"538\" y=\"-171.8\" font-family=\"Helvetica,sans-Serif\" font-size=\"14.00\">degree_spondylolisthesis ≤ 30.891</text>\n<text text-anchor=\"start\" x=\"606.5\" y=\"-156.8\" font-family=\"Helvetica,sans-Serif\" font-size=\"14.00\">gini = 0.137</text>\n<text text-anchor=\"start\" x=\"601\" y=\"-141.8\" font-family=\"Helvetica,sans-Serif\" font-size=\"14.00\">samples = 27</text>\n<text text-anchor=\"start\" x=\"591.5\" y=\"-126.8\" font-family=\"Helvetica,sans-Serif\" font-size=\"14.00\">value = [0, 2, 25]</text>\n<text text-anchor=\"start\" x=\"559.5\" y=\"-111.8\" font-family=\"Helvetica,sans-Serif\" font-size=\"14.00\">class = b&#39;Spondylolisthesis&#39;</text>\n</g>\n<!-- 8&#45;&gt;9 -->\n<g id=\"edge9\" class=\"edge\">\n<title>8&#45;&gt;9</title>\n<path fill=\"none\" stroke=\"black\" d=\"M642,-222.91C642,-214.65 642,-205.86 642,-197.3\"/>\n<polygon fill=\"black\" stroke=\"black\" points=\"645.5,-197.02 642,-187.02 638.5,-197.02 645.5,-197.02\"/>\n</g>\n<!-- 12 -->\n<g id=\"node13\" class=\"node\">\n<title>12</title>\n<path fill=\"#8139e5\" stroke=\"black\" d=\"M941.5,-179.5C941.5,-179.5 784.5,-179.5 784.5,-179.5 778.5,-179.5 772.5,-173.5 772.5,-167.5 772.5,-167.5 772.5,-123.5 772.5,-123.5 772.5,-117.5 778.5,-111.5 784.5,-111.5 784.5,-111.5 941.5,-111.5 941.5,-111.5 947.5,-111.5 953.5,-117.5 953.5,-123.5 953.5,-123.5 953.5,-167.5 953.5,-167.5 953.5,-173.5 947.5,-179.5 941.5,-179.5\"/>\n<text text-anchor=\"start\" x=\"835\" y=\"-164.3\" font-family=\"Helvetica,sans-Serif\" font-size=\"14.00\">gini = 0.0</text>\n<text text-anchor=\"start\" x=\"822\" y=\"-149.3\" font-family=\"Helvetica,sans-Serif\" font-size=\"14.00\">samples = 73</text>\n<text text-anchor=\"start\" x=\"812.5\" y=\"-134.3\" font-family=\"Helvetica,sans-Serif\" font-size=\"14.00\">value = [0, 0, 73]</text>\n<text text-anchor=\"start\" x=\"780.5\" y=\"-119.3\" font-family=\"Helvetica,sans-Serif\" font-size=\"14.00\">class = b&#39;Spondylolisthesis&#39;</text>\n</g>\n<!-- 8&#45;&gt;12 -->\n<g id=\"edge12\" class=\"edge\">\n<title>8&#45;&gt;12</title>\n<path fill=\"none\" stroke=\"black\" d=\"M718.67,-222.91C742.23,-210.44 768.05,-196.77 791.26,-184.48\"/>\n<polygon fill=\"black\" stroke=\"black\" points=\"793.15,-187.44 800.35,-179.67 789.88,-181.25 793.15,-187.44\"/>\n</g>\n<!-- 10 -->\n<g id=\"node11\" class=\"node\">\n<title>10</title>\n<path fill=\"#8641e6\" stroke=\"black\" d=\"M720.5,-68C720.5,-68 563.5,-68 563.5,-68 557.5,-68 551.5,-62 551.5,-56 551.5,-56 551.5,-12 551.5,-12 551.5,-6 557.5,0 563.5,0 563.5,0 720.5,0 720.5,0 726.5,0 732.5,-6 732.5,-12 732.5,-12 732.5,-56 732.5,-56 732.5,-62 726.5,-68 720.5,-68\"/>\n<text text-anchor=\"start\" x=\"606.5\" y=\"-52.8\" font-family=\"Helvetica,sans-Serif\" font-size=\"14.00\">gini = 0.074</text>\n<text text-anchor=\"start\" x=\"601\" y=\"-37.8\" font-family=\"Helvetica,sans-Serif\" font-size=\"14.00\">samples = 26</text>\n<text text-anchor=\"start\" x=\"591.5\" y=\"-22.8\" font-family=\"Helvetica,sans-Serif\" font-size=\"14.00\">value = [0, 1, 25]</text>\n<text text-anchor=\"start\" x=\"559.5\" y=\"-7.8\" font-family=\"Helvetica,sans-Serif\" font-size=\"14.00\">class = b&#39;Spondylolisthesis&#39;</text>\n</g>\n<!-- 9&#45;&gt;10 -->\n<g id=\"edge10\" class=\"edge\">\n<title>9&#45;&gt;10</title>\n<path fill=\"none\" stroke=\"black\" d=\"M642,-103.73C642,-95.52 642,-86.86 642,-78.56\"/>\n<polygon fill=\"black\" stroke=\"black\" points=\"645.5,-78.3 642,-68.3 638.5,-78.3 645.5,-78.3\"/>\n</g>\n<!-- 11 -->\n<g id=\"node12\" class=\"node\">\n<title>11</title>\n<path fill=\"#39e581\" stroke=\"black\" d=\"M859.5,-68C859.5,-68 762.5,-68 762.5,-68 756.5,-68 750.5,-62 750.5,-56 750.5,-56 750.5,-12 750.5,-12 750.5,-6 756.5,0 762.5,0 762.5,0 859.5,0 859.5,0 865.5,0 871.5,-6 871.5,-12 871.5,-12 871.5,-56 871.5,-56 871.5,-62 865.5,-68 859.5,-68\"/>\n<text text-anchor=\"start\" x=\"783\" y=\"-52.8\" font-family=\"Helvetica,sans-Serif\" font-size=\"14.00\">gini = 0.0</text>\n<text text-anchor=\"start\" x=\"773.5\" y=\"-37.8\" font-family=\"Helvetica,sans-Serif\" font-size=\"14.00\">samples = 1</text>\n<text text-anchor=\"start\" x=\"764\" y=\"-22.8\" font-family=\"Helvetica,sans-Serif\" font-size=\"14.00\">value = [0, 1, 0]</text>\n<text text-anchor=\"start\" x=\"758.5\" y=\"-7.8\" font-family=\"Helvetica,sans-Serif\" font-size=\"14.00\">class = b&#39;Normal&#39;</text>\n</g>\n<!-- 9&#45;&gt;11 -->\n<g id=\"edge11\" class=\"edge\">\n<title>9&#45;&gt;11</title>\n<path fill=\"none\" stroke=\"black\" d=\"M704.93,-103.73C720.07,-93.92 736.2,-83.46 751.19,-73.75\"/>\n<polygon fill=\"black\" stroke=\"black\" points=\"753.39,-76.5 759.88,-68.13 749.58,-70.63 753.39,-76.5\"/>\n</g>\n</g>\n</svg>\n"
          },
          "metadata": {},
          "execution_count": 109
        }
      ]
    }
  ]
}